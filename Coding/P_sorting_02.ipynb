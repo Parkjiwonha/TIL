{
 "cells": [
  {
   "cell_type": "code",
   "execution_count": null,
   "metadata": {},
   "outputs": [],
   "source": [
    "#Try1 실패"
   ]
  },
  {
   "cell_type": "code",
   "execution_count": 75,
   "metadata": {},
   "outputs": [],
   "source": [
    "numbers=[3, 30, 34, 5, 9]"
   ]
  },
  {
   "cell_type": "code",
   "execution_count": 78,
   "metadata": {},
   "outputs": [],
   "source": [
    "def solution(numbers):\n",
    "    res=[]\n",
    "    answer=''\n",
    "    for idx,i in enumerate(numbers):\n",
    "        a=format(i,'<0'+str(len(str(max(numbers)))))\n",
    "        res.append((a,idx))\n",
    "    \n",
    "    res.sort()\n",
    "    res=res[::-1]\n",
    "    print(res)\n",
    "    for j in res:\n",
    "        x,y=j \n",
    "        answer+=str(numbers[y])\n",
    "    return answer"
   ]
  },
  {
   "cell_type": "code",
   "execution_count": 79,
   "metadata": {},
   "outputs": [
    {
     "name": "stdout",
     "output_type": "stream",
     "text": [
      "[('90', 4), ('50', 3), ('34', 2), ('30', 1), ('30', 0)]\n"
     ]
    },
    {
     "data": {
      "text/plain": [
       "'9534303'"
      ]
     },
     "execution_count": 79,
     "metadata": {},
     "output_type": "execute_result"
    }
   ],
   "source": [
    "solution(numbers)"
   ]
  }
 ],
 "metadata": {
  "kernelspec": {
   "display_name": "Python 3",
   "language": "python",
   "name": "python3"
  },
  "language_info": {
   "codemirror_mode": {
    "name": "ipython",
    "version": 3
   },
   "file_extension": ".py",
   "mimetype": "text/x-python",
   "name": "python",
   "nbconvert_exporter": "python",
   "pygments_lexer": "ipython3",
   "version": "3.7.3"
  }
 },
 "nbformat": 4,
 "nbformat_minor": 2
}
