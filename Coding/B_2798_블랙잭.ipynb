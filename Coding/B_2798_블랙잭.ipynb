{
 "cells": [
  {
   "cell_type": "code",
   "execution_count": 125,
   "metadata": {},
   "outputs": [
    {
     "name": "stdout",
     "output_type": "stream",
     "text": [
      "5 21\n",
      "5 6 7 8 9\n"
     ]
    }
   ],
   "source": [
    "N,M = map(int,input().split(' '))\n",
    "card = list(map(int,input().split(' ')))"
   ]
  },
  {
   "cell_type": "code",
   "execution_count": 149,
   "metadata": {},
   "outputs": [
    {
     "name": "stdout",
     "output_type": "stream",
     "text": [
      "21\n"
     ]
    }
   ],
   "source": [
    "lis=[]\n",
    "while len(card)>=3:\n",
    "    \n",
    "    for i in range(len(card)):\n",
    "        for idx in range(1,len(card)-1):\n",
    "            if 0+idx<i:\n",
    "                value=card[0]+card[0+idx]+card[i]\n",
    "                if value<=M:\n",
    "                    lis.append(value)\n",
    "    card.pop(0)  \n",
    "    \n",
    "fin=list(map(lambda x: abs(x-M),lis))\n",
    "print(lis[fin.index(min(fin))])"
   ]
  },
  {
   "cell_type": "code",
   "execution_count": null,
   "metadata": {},
   "outputs": [],
   "source": [
    "n,m = list(map(int, input().split(' ')))\n",
    "cards = list(map(int, input().split(' ')))\n",
    "\n",
    "result = 0\n",
    "length = len(cards)\n",
    "\n",
    "# 3개만 뽑으니까 3중 반복문도 가능\n",
    "for i in range (0, length):\n",
    "    for j in range(i+1, length):\n",
    "        for k in range (j+1, length):\n",
    "            sum_value = cards[i]+cards[j]+cards[k]\n",
    "            if sum_value <=m:\n",
    "                result = max(result, sum_value)\n",
    "print(result)"
   ]
  }
 ],
 "metadata": {
  "kernelspec": {
   "display_name": "Python 3",
   "language": "python",
   "name": "python3"
  },
  "language_info": {
   "codemirror_mode": {
    "name": "ipython",
    "version": 3
   },
   "file_extension": ".py",
   "mimetype": "text/x-python",
   "name": "python",
   "nbconvert_exporter": "python",
   "pygments_lexer": "ipython3",
   "version": "3.7.3"
  }
 },
 "nbformat": 4,
 "nbformat_minor": 2
}
