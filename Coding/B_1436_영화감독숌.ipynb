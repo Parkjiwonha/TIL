{
 "cells": [
  {
   "cell_type": "code",
   "execution_count": 9,
   "metadata": {},
   "outputs": [
    {
     "name": "stdout",
     "output_type": "stream",
     "text": [
      "10\n",
      "6663\n"
     ]
    }
   ],
   "source": [
    "value=int(input())\n",
    "n=666\n",
    "cnt=0\n",
    "\n",
    "while True:\n",
    "    if '666' in str(n):\n",
    "        cnt+=1\n",
    "    if cnt==value:\n",
    "        print(n)\n",
    "        break\n",
    "        \n",
    "    n+=1"
   ]
  }
 ],
 "metadata": {
  "kernelspec": {
   "display_name": "Python 3",
   "language": "python",
   "name": "python3"
  },
  "language_info": {
   "codemirror_mode": {
    "name": "ipython",
    "version": 3
   },
   "file_extension": ".py",
   "mimetype": "text/x-python",
   "name": "python",
   "nbconvert_exporter": "python",
   "pygments_lexer": "ipython3",
   "version": "3.7.3"
  }
 },
 "nbformat": 4,
 "nbformat_minor": 2
}
