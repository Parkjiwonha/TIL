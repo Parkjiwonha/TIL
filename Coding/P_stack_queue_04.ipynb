{
 "cells": [
  {
   "cell_type": "markdown",
   "metadata": {},
   "source": [
    "\n",
    "# 프로그래머스_스택/큐_04\n",
    "\n",
    "## 프린터\n",
    ">4개의 문서(A, B, C, D)가 순서대로 인쇄 대기목록에 있고 중요도가 2 1 3 2 라면 C D A B 순으로 인쇄하게 됩니다. 내가 인쇄를 요청한 문서가 몇 번째로 인쇄되는지 알고 싶습니다.\n",
    "\n",
    "- 인쇄 대기목록의 가장 앞에 있는 문서(J)를 대기목록에서 꺼냅니다.\n",
    "- 나머지 인쇄 대기목록에서 J보다 중요도가 높은 문서가 한 개라도 존재하면 J를 대기목록의 가장 마지막에 넣습니다.\n",
    "- 그렇지 않으면 J를 인쇄합니다."
   ]
  },
  {
   "cell_type": "code",
   "execution_count": null,
   "metadata": {},
   "outputs": [],
   "source": [
    "#Try1 실패"
   ]
  },
  {
   "cell_type": "code",
   "execution_count": 231,
   "metadata": {},
   "outputs": [],
   "source": [
    "priorities =[2, 1, 3, 2]\n",
    "location=2"
   ]
  },
  {
   "cell_type": "code",
   "execution_count": 232,
   "metadata": {},
   "outputs": [],
   "source": [
    "def solution(priorities, location): \n",
    "    answer=0\n",
    "    idx=0\n",
    "    f = len(priorities)\n",
    "    while len(priorities):\n",
    "        v=priorities.pop(0)\n",
    "        t =True\n",
    "\n",
    "        for j in priorities:\n",
    "            if v<j:\n",
    "                t = False\n",
    "\n",
    "        if t==False:\n",
    "            priorities.append(v)\n",
    "            idx+=1\n",
    "        else:\n",
    "            answer+=1\n",
    "            idx+=1\n",
    "        \n",
    "        if idx>f:\n",
    "            g = idx-f\n",
    "        else:\n",
    "            g = idx\n",
    "\n",
    "        if (answer>0) & (g==location+1):\n",
    "            return answer"
   ]
  },
  {
   "cell_type": "code",
   "execution_count": 233,
   "metadata": {},
   "outputs": [
    {
     "data": {
      "text/plain": [
       "1"
      ]
     },
     "execution_count": 233,
     "metadata": {},
     "output_type": "execute_result"
    }
   ],
   "source": [
    "solution(priorities, location)"
   ]
  }
 ],
 "metadata": {
  "kernelspec": {
   "display_name": "Python 3",
   "language": "python",
   "name": "python3"
  },
  "language_info": {
   "codemirror_mode": {
    "name": "ipython",
    "version": 3
   },
   "file_extension": ".py",
   "mimetype": "text/x-python",
   "name": "python",
   "nbconvert_exporter": "python",
   "pygments_lexer": "ipython3",
   "version": "3.7.3"
  }
 },
 "nbformat": 4,
 "nbformat_minor": 2
}
