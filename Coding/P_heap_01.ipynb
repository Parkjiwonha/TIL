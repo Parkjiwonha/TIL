{
 "cells": [
  {
   "cell_type": "markdown",
   "metadata": {},
   "source": [
    "\n",
    "# 프로그래머스\\_힙\\_01\n",
    "\n",
    "## 더 맵게\n",
    "> Leo는 모든 음식의 스코빌 지수가 K 이상이 될 때까지 반복하여 섞습니다.\n",
    "Leo가 가진 음식의 스코빌 지수를 담은 배열 scoville과 원하는 스코빌 지수 K가 주어질 때, 모든 음식의 스코빌 지수를 K 이상으로 만들기 위해 섞어야 하는 최소 횟수를 return 하도록 solution 함수를 작성해주세요.\n",
    "\n",
    "- 스코빌 지수가 1인 음식과 2인 음식을 섞으면 새로운 음식의 스코빌 지수 = 1 + (2 * 2) = 5, 가진 음식의 스코빌 지수 = [5, 3, 9, 10, 12]\n",
    "\n",
    "- 스코빌 지수가 3인 음식과 5인 음식을 섞으면 새로운 음식의 스코빌 지수 = 3 + (5 * 2) = 13, 가진 음식의 스코빌 지수 = [13, 9, 10, 12]"
   ]
  },
  {
   "cell_type": "code",
   "execution_count": 1,
   "metadata": {},
   "outputs": [],
   "source": [
    "#Try1 런타임 에러"
   ]
  },
  {
   "cell_type": "code",
   "execution_count": null,
   "metadata": {},
   "outputs": [],
   "source": [
    "def solution(scoville, K):\n",
    "    answer = 0\n",
    "    while True:\n",
    "        scoville.sort()\n",
    "        new=scoville.pop(0)+(scoville.pop(0)*2)\n",
    "        scoville.append(new)\n",
    "        answer +=1\n",
    "        \n",
    "        if scoville[0]>=K:\n",
    "            return answer\n",
    "            break"
   ]
  },
  {
   "cell_type": "code",
   "execution_count": null,
   "metadata": {},
   "outputs": [],
   "source": [
    "#Try2 성공"
   ]
  },
  {
   "cell_type": "code",
   "execution_count": 2,
   "metadata": {},
   "outputs": [],
   "source": [
    "import heapq"
   ]
  },
  {
   "cell_type": "code",
   "execution_count": 283,
   "metadata": {},
   "outputs": [],
   "source": [
    "scoville=[0,0,1,1]\n",
    "K=7"
   ]
  },
  {
   "cell_type": "code",
   "execution_count": 284,
   "metadata": {},
   "outputs": [],
   "source": [
    "def solution(scoville,K):\n",
    "    answer=0\n",
    "    heapq.heapify(scoville)\n",
    "    \n",
    "    try:\n",
    "        while True:\n",
    "        \n",
    "            heapq.heappush(scoville,(heapq.heappop(scoville)+(heapq.heappop(scoville)*2)))\n",
    "            answer+=1  \n",
    "            \n",
    "            if scoville[0]>=K:\n",
    "                return answer\n",
    "                break\n",
    "    except:\n",
    "        return -1"
   ]
  },
  {
   "cell_type": "code",
   "execution_count": 285,
   "metadata": {},
   "outputs": [
    {
     "data": {
      "text/plain": [
       "-1"
      ]
     },
     "execution_count": 285,
     "metadata": {},
     "output_type": "execute_result"
    }
   ],
   "source": [
    "solution(scoville, K)"
   ]
  }
 ],
 "metadata": {
  "kernelspec": {
   "display_name": "Python 3",
   "language": "python",
   "name": "python3"
  },
  "language_info": {
   "codemirror_mode": {
    "name": "ipython",
    "version": 3
   },
   "file_extension": ".py",
   "mimetype": "text/x-python",
   "name": "python",
   "nbconvert_exporter": "python",
   "pygments_lexer": "ipython3",
   "version": "3.7.3"
  }
 },
 "nbformat": 4,
 "nbformat_minor": 2
}
