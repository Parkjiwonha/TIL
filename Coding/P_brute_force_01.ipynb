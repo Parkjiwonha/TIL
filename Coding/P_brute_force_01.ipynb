{
 "cells": [
  {
   "cell_type": "markdown",
   "metadata": {},
   "source": [
    "\n",
    "# 프로그래머스_완전탐색_01\n",
    "\n",
    "## 모의고사\n",
    "> 수포자는 수학을 포기한 사람의 준말입니다. 수포자 삼인방은 모의고사에 수학 문제를 전부 찍으려 합니다. 수포자는 1번 문제부터 마지막 문제까지 다음과 같이 찍습니다.\n",
    "1번 수포자가 찍는 방식: 1, 2, 3, 4, 5, 1, 2, 3, 4, 5, ...\n",
    "2번 수포자가 찍는 방식: 2, 1, 2, 3, 2, 4, 2, 5, 2, 1, 2, 3, 2, 4, 2, 5, ...\n",
    "3번 수포자가 찍는 방식: 3, 3, 1, 1, 2, 2, 4, 4, 5, 5, 3, 3, 1, 1, 2, 2, 4, 4, 5, 5, ...\n",
    "1번 문제부터 마지막 문제까지의 정답이 순서대로 들은 배열 answers가 주어졌을 때, 가장 많은 문제를 맞힌 사람이 누구인지 배열에 담아 return 하도록 solution 함수를 작성해주세요.\n",
    "\n",
    "- 시험은 최대 10,000 문제로 구성되어있습니다.-\n",
    "- 문제의 정답은 1, 2, 3, 4, 5중 하나입니다.\n",
    "- 가장 높은 점수를 받은 사람이 여럿일 경우, return하는 값을 오름차순 정렬해주세요.\n"
   ]
  },
  {
   "cell_type": "code",
   "execution_count": null,
   "metadata": {},
   "outputs": [],
   "source": [
    "#Try1 성공"
   ]
  },
  {
   "cell_type": "code",
   "execution_count": 71,
   "metadata": {},
   "outputs": [],
   "source": [
    "answers =[1,2,3,4,5]"
   ]
  },
  {
   "cell_type": "code",
   "execution_count": 72,
   "metadata": {},
   "outputs": [],
   "source": [
    "def solution(answers):\n",
    "\n",
    "    one=[1, 2, 3, 4, 5]*2000\n",
    "    two=[2, 1, 2, 3, 2, 4, 2, 5]*1250\n",
    "    three=[3, 3, 1, 1, 2, 2, 4, 4, 5, 5]*1000\n",
    "\n",
    "    count1=0\n",
    "    count2=0\n",
    "    count3=0\n",
    "    answer={}\n",
    "\n",
    "    for i in range(len(exam)):\n",
    "\n",
    "        if exam[i]==one[i]:\n",
    "            count1+=1\n",
    "\n",
    "        if exam[i]==two[i]:\n",
    "            count2+=1\n",
    "\n",
    "        if exam[i]==three[i]:\n",
    "            count3+=1\n",
    "\n",
    "    answer[count1]=[]\n",
    "    answer[count2]=[]\n",
    "    answer[count3]=[]\n",
    "\n",
    "    answer[count1].append(1)\n",
    "    answer[count2].append(2)\n",
    "    answer[count3].append(3)  \n",
    "\n",
    "    return answer[max(answer)]"
   ]
  },
  {
   "cell_type": "code",
   "execution_count": 73,
   "metadata": {},
   "outputs": [
    {
     "data": {
      "text/plain": [
       "[1]"
      ]
     },
     "execution_count": 73,
     "metadata": {},
     "output_type": "execute_result"
    }
   ],
   "source": [
    "solution(answers)"
   ]
  },
  {
   "cell_type": "code",
   "execution_count": null,
   "metadata": {},
   "outputs": [],
   "source": [
    "#Try2"
   ]
  },
  {
   "cell_type": "code",
   "execution_count": 89,
   "metadata": {},
   "outputs": [],
   "source": [
    "def solution(answers):\n",
    "    one=[1, 2, 3, 4, 5]\n",
    "    two=[2, 1, 2, 3, 2, 4, 2, 5]\n",
    "    three=[3, 3, 1, 1, 2, 2, 4, 4, 5, 5]\n",
    "    count=[0,0,0]\n",
    "    answer=[]\n",
    "    for idx,i in enumerate(answers):\n",
    "\n",
    "        if one[idx%len(one)]==i:\n",
    "            count[0]+=1\n",
    "        if two[idx%len(two)]==i:\n",
    "            count[1]+=1\n",
    "        if three[idx%len(three)]==i:\n",
    "            count[2]+=1\n",
    "\n",
    "\n",
    "    for idx,i in enumerate(count):\n",
    "\n",
    "        if max(count)==i:\n",
    "            answer.append(idx+1)\n",
    "\n",
    "    return answer"
   ]
  },
  {
   "cell_type": "code",
   "execution_count": 84,
   "metadata": {},
   "outputs": [
    {
     "data": {
      "text/plain": [
       "[1]"
      ]
     },
     "execution_count": 84,
     "metadata": {},
     "output_type": "execute_result"
    }
   ],
   "source": [
    "solution(answers)"
   ]
  }
 ],
 "metadata": {
  "kernelspec": {
   "display_name": "Python 3",
   "language": "python",
   "name": "python3"
  },
  "language_info": {
   "codemirror_mode": {
    "name": "ipython",
    "version": 3
   },
   "file_extension": ".py",
   "mimetype": "text/x-python",
   "name": "python",
   "nbconvert_exporter": "python",
   "pygments_lexer": "ipython3",
   "version": "3.7.3"
  }
 },
 "nbformat": 4,
 "nbformat_minor": 2
}
