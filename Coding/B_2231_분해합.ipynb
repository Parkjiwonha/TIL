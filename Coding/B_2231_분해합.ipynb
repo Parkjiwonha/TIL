{
 "cells": [
  {
   "cell_type": "code",
   "execution_count": 89,
   "metadata": {},
   "outputs": [
    {
     "name": "stdout",
     "output_type": "stream",
     "text": [
      "245\n",
      "235\n"
     ]
    }
   ],
   "source": [
    "value=int(input())\n",
    "num=0\n",
    "while True:\n",
    "    summ=0\n",
    "    for i in range(len(str(num))):\n",
    "        summ+=int(str(num)[i])\n",
    "    summ+=num\n",
    "    if summ==value:\n",
    "        print(num)\n",
    "        break\n",
    "    if num>value:\n",
    "        print(0)\n",
    "        break\n",
    "    num+=1"
   ]
  },
  {
   "cell_type": "code",
   "execution_count": 90,
   "metadata": {},
   "outputs": [
    {
     "name": "stdout",
     "output_type": "stream",
     "text": [
      "245\n",
      "235\n"
     ]
    }
   ],
   "source": [
    "value=int(input())\n",
    "for i in range(value):\n",
    "    num=sum(map(int,str(i)))\n",
    "    if num+i==value:\n",
    "        print(i)\n",
    "        break\n",
    "else:\n",
    "    print(0)"
   ]
  }
 ],
 "metadata": {
  "kernelspec": {
   "display_name": "Python 3",
   "language": "python",
   "name": "python3"
  },
  "language_info": {
   "codemirror_mode": {
    "name": "ipython",
    "version": 3
   },
   "file_extension": ".py",
   "mimetype": "text/x-python",
   "name": "python",
   "nbconvert_exporter": "python",
   "pygments_lexer": "ipython3",
   "version": "3.7.3"
  }
 },
 "nbformat": 4,
 "nbformat_minor": 2
}
