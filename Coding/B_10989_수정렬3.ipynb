{
 "cells": [
  {
   "cell_type": "code",
   "execution_count": 1,
   "metadata": {},
   "outputs": [
    {
     "name": "stdout",
     "output_type": "stream",
     "text": [
      "10\n",
      "5\n",
      "2\n",
      "3\n",
      "1\n",
      "4\n",
      "2\n",
      "3\n",
      "5\n",
      "1\n",
      "7\n"
     ]
    }
   ],
   "source": [
    "num=int(input())\n",
    "lis=[]\n",
    "for _ in range(num):\n",
    "    value=int(input())\n",
    "    lis.append(value)"
   ]
  },
  {
   "cell_type": "code",
   "execution_count": 34,
   "metadata": {},
   "outputs": [
    {
     "name": "stdout",
     "output_type": "stream",
     "text": [
      "1\n",
      "1\n",
      "2\n",
      "2\n",
      "3\n",
      "3\n",
      "4\n",
      "5\n",
      "5\n",
      "7\n"
     ]
    }
   ],
   "source": [
    "fin=set(lis)\n",
    "for _ in range(len(set(lis))):\n",
    "    i=fin.pop()\n",
    "    cnt=lis.count(i)\n",
    "    for _ in range(cnt):\n",
    "        print(i, end='\\n')"
   ]
  },
  {
   "cell_type": "code",
   "execution_count": null,
   "metadata": {},
   "outputs": [],
   "source": [
    "import sys\n",
    "\n",
    "lis=[0]*10001\n",
    "n = int(input())\n",
    "for _ in range(n):\n",
    "    num=int(sys.stdin.readline())\n",
    "    lis[num]+=1\n",
    "    \n",
    "for i in range(len(lis)):\n",
    "    if lis[i]==0:\n",
    "        continue\n",
    "    for j in range(lis[i]):\n",
    "        print(i,end='\\n')"
   ]
  }
 ],
 "metadata": {
  "kernelspec": {
   "display_name": "Python 3",
   "language": "python",
   "name": "python3"
  },
  "language_info": {
   "codemirror_mode": {
    "name": "ipython",
    "version": 3
   },
   "file_extension": ".py",
   "mimetype": "text/x-python",
   "name": "python",
   "nbconvert_exporter": "python",
   "pygments_lexer": "ipython3",
   "version": "3.7.3"
  }
 },
 "nbformat": 4,
 "nbformat_minor": 2
}
