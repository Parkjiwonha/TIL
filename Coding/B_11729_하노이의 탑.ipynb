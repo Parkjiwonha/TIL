{
 "cells": [
  {
   "cell_type": "code",
   "execution_count": 66,
   "metadata": {},
   "outputs": [
    {
     "name": "stdout",
     "output_type": "stream",
     "text": [
      "3\n",
      "7\n",
      "1 3\n",
      "1 2\n",
      "3 2\n",
      "1 3\n",
      "2 1\n",
      "2 3\n",
      "1 3\n"
     ]
    }
   ],
   "source": [
    "num=int(input())\n",
    "\n",
    "lis=[]\n",
    "def hanoi(num,a,b,c):\n",
    "    global lis\n",
    "    \n",
    "    if num==1:\n",
    "        lis.append((a,c))\n",
    "    else:\n",
    "        hanoi(num-1,a,c,b)\n",
    "        lis.append((a,c))\n",
    "        hanoi(num-1,b,a,c)\n",
    "    \n",
    "hanoi(num,1,2,3)\n",
    "print(len(lis))\n",
    "for x,y in lis:\n",
    "    print(x,y)"
   ]
  }
 ],
 "metadata": {
  "kernelspec": {
   "display_name": "Python 3",
   "language": "python",
   "name": "python3"
  },
  "language_info": {
   "codemirror_mode": {
    "name": "ipython",
    "version": 3
   },
   "file_extension": ".py",
   "mimetype": "text/x-python",
   "name": "python",
   "nbconvert_exporter": "python",
   "pygments_lexer": "ipython3",
   "version": "3.7.3"
  }
 },
 "nbformat": 4,
 "nbformat_minor": 2
}
